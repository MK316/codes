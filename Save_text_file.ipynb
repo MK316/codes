{
  "nbformat": 4,
  "nbformat_minor": 0,
  "metadata": {
    "colab": {
      "name": "Save-text-file.ipynb",
      "provenance": [],
      "authorship_tag": "ABX9TyM3PHielUSPzvJ6GUjeTDR4",
      "include_colab_link": true
    },
    "kernelspec": {
      "name": "python3",
      "display_name": "Python 3"
    },
    "language_info": {
      "name": "python"
    }
  },
  "cells": [
    {
      "cell_type": "markdown",
      "metadata": {
        "id": "view-in-github",
        "colab_type": "text"
      },
      "source": [
        "<a href=\"https://colab.research.google.com/github/MK316/codes/blob/main/Save_text_file.ipynb\" target=\"_parent\"><img src=\"https://colab.research.google.com/assets/colab-badge.svg\" alt=\"Open In Colab\"/></a>"
      ]
    },
    {
      "cell_type": "code",
      "execution_count": 7,
      "metadata": {
        "id": "5jPfD1QwL8PC"
      },
      "outputs": [],
      "source": [
        "text = \"\"\"One day a shepherd discovered a fat Pig in the meadow where his Sheep were pastured. \\\n",
        "He very quickly captured the porker, which squealed at the top of its voice the moment the Shepherd laid his hands on it. \\\n",
        "You would have thought, to hear the loud squealing, that the Pig was being cruelly hurt. \\\n",
        "But in spite of its squeals and struggles to escape, \\\n",
        "the Shepherd tucked his prize under his arm and started off to the butcher's in the market place.\\\n",
        "The Sheep in the pasture were much astonished and amused at the Pig's behavior, \\\n",
        "and followed the Shepherd and his charge to the pasture gate.\\\n",
        "\"What makes you squeal like that?\" asked one of the Sheep. \\\n",
        "\"The Shepherd often catches and carries off one of us. \\\n",
        "But we should feel very much ashamed to make such a terrible fuss about it like you do.\"\\\n",
        "\"That is all very well,\" replied the Pig, with a squeal and a frantic kick. \\\n",
        "\"When he catches you he is only after your wool. But he wants my bacon! gree-ee-ee!\"\\\n",
        "It is easy to be brave when there is no danger.\"\"\""
      ]
    },
    {
      "cell_type": "code",
      "source": [
        "file = open(\"tmp.txt\", \"w\")\n",
        "file.write(text)\n",
        "file.close()"
      ],
      "metadata": {
        "id": "ZVCdZlpKMGTX"
      },
      "execution_count": 8,
      "outputs": []
    },
    {
      "cell_type": "code",
      "source": [
        "file = open(\"tmp.txt\")\n",
        "txt = file.read().replace(\"\\n\", \" \")\n",
        "file.close()"
      ],
      "metadata": {
        "id": "piLmfF_kM8Ff"
      },
      "execution_count": 9,
      "outputs": []
    },
    {
      "cell_type": "code",
      "source": [
        "txt"
      ],
      "metadata": {
        "colab": {
          "base_uri": "https://localhost:8080/",
          "height": 183
        },
        "id": "JB-238PqNAtL",
        "outputId": "70585bf5-9c47-485b-a99f-969b2c3c6078"
      },
      "execution_count": 11,
      "outputs": [
        {
          "output_type": "execute_result",
          "data": {
            "text/plain": [
              "'One day a shepherd discovered a fat Pig in the meadow where his Sheep were pastured. He very quickly captured the porker, which squealed at the top of its voice the moment the Shepherd laid his hands on it. You would have thought, to hear the loud squealing, that the Pig was being cruelly hurt. But in spite of its squeals and struggles to escape, the Shepherd tucked his prize under his arm and started off to the butcher\\'s in the market place.The Sheep in the pasture were much astonished and amused at the Pig\\'s behavior, and followed the Shepherd and his charge to the pasture gate.\"What makes you squeal like that?\" asked one of the Sheep. \"The Shepherd often catches and carries off one of us. But we should feel very much ashamed to make such a terrible fuss about it like you do.\"\"That is all very well,\" replied the Pig, with a squeal and a frantic kick. \"When he catches you he is only after your wool. But he wants my bacon! gree-ee-ee!\"It is easy to be brave when there is no danger.'"
            ],
            "application/vnd.google.colaboratory.intrinsic+json": {
              "type": "string"
            }
          },
          "metadata": {},
          "execution_count": 11
        }
      ]
    }
  ]
}