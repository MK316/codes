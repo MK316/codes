{
  "nbformat": 4,
  "nbformat_minor": 0,
  "metadata": {
    "colab": {
      "name": "Files_from_Github_to_Colab.ipynb",
      "provenance": [],
      "authorship_tag": "ABX9TyPMfb8iv1B5i8sd9rvWxETS",
      "include_colab_link": true
    },
    "kernelspec": {
      "name": "python3",
      "display_name": "Python 3"
    },
    "language_info": {
      "name": "python"
    }
  },
  "cells": [
    {
      "cell_type": "markdown",
      "metadata": {
        "id": "view-in-github",
        "colab_type": "text"
      },
      "source": [
        "<a href=\"https://colab.research.google.com/github/MK316/codes/blob/main/Files_from_Github_to_Colab.ipynb\" target=\"_parent\"><img src=\"https://colab.research.google.com/assets/colab-badge.svg\" alt=\"Open In Colab\"/></a>"
      ]
    },
    {
      "cell_type": "markdown",
      "source": [
        "# NLTK (Natural Language Tool Kit)\n",
        "\n",
        "Copy a file from github"
      ],
      "metadata": {
        "id": "malpiZp-dzBc"
      }
    },
    {
      "cell_type": "code",
      "execution_count": 1,
      "metadata": {
        "id": "jZT0I1i0X6wS"
      },
      "outputs": [],
      "source": [
        "# copy a file from github\n",
        "import os\n",
        "url = \"https://raw.githubusercontent.com/MK316/mynltkdata/main/data/DoveAndAnt.txt\"\n",
        "os.system(\"curl \" + url + \" > crime_punishment.txt\")"
      ]
    },
    {
      "cell_type": "markdown",
      "source": [
        "Read the file and save it"
      ],
      "metadata": {
        "id": "_N6nlBJEd_1w"
      }
    },
    {
      "cell_type": "code",
      "source": [
        "# read a text file in the server\n",
        "file = open(\"crime_punishment.txt\")\n",
        "text = file.read().replace(\"\\n\", \" \")\n",
        "file.close()"
      ],
      "metadata": {
        "id": "tkkdPGuyd-Z-"
      },
      "execution_count": 2,
      "outputs": []
    },
    {
      "cell_type": "code",
      "source": [
        "# write out a text file\n",
        "file = open(\"tmp.txt\", \"w\")\n",
        "file.write(text)\n",
        "file.close()"
      ],
      "metadata": {
        "id": "jbxH4JGNeDkJ"
      },
      "execution_count": null,
      "outputs": []
    }
  ]
}