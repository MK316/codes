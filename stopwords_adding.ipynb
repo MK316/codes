{
  "nbformat": 4,
  "nbformat_minor": 0,
  "metadata": {
    "colab": {
      "name": "stopwords_adding.ipynb",
      "provenance": [],
      "collapsed_sections": [],
      "authorship_tag": "ABX9TyNrl+T34rzOZqsWxf0NYng/",
      "include_colab_link": true
    },
    "kernelspec": {
      "name": "python3",
      "display_name": "Python 3"
    },
    "language_info": {
      "name": "python"
    }
  },
  "cells": [
    {
      "cell_type": "markdown",
      "metadata": {
        "id": "view-in-github",
        "colab_type": "text"
      },
      "source": [
        "<a href=\"https://colab.research.google.com/github/MK316/codes/blob/main/stopwords_adding.ipynb\" target=\"_parent\"><img src=\"https://colab.research.google.com/assets/colab-badge.svg\" alt=\"Open In Colab\"/></a>"
      ]
    },
    {
      "cell_type": "markdown",
      "source": [
        "# Stopwords in nltk"
      ],
      "metadata": {
        "id": "yzZpInOHpDMw"
      }
    },
    {
      "cell_type": "code",
      "execution_count": 18,
      "metadata": {
        "colab": {
          "base_uri": "https://localhost:8080/"
        },
        "id": "K1JY27A_klNV",
        "outputId": "35c68b1c-64d4-408e-e298-ea028c846b8f"
      },
      "outputs": [
        {
          "output_type": "stream",
          "name": "stdout",
          "text": [
            "[nltk_data] Downloading package punkt to /root/nltk_data...\n",
            "[nltk_data]   Package punkt is already up-to-date!\n"
          ]
        },
        {
          "output_type": "execute_result",
          "data": {
            "text/plain": [
              "True"
            ]
          },
          "metadata": {},
          "execution_count": 18
        }
      ],
      "source": [
        "import nltk\n",
        "from nltk.tokenize import word_tokenize\n",
        "nltk.download('punkt')"
      ]
    },
    {
      "cell_type": "code",
      "source": [
        "# Text (Dove and Ant)\n",
        "text = \"A Dove saw an Ant fall into a brook. The Ant struggled in vain to reach the bank, and in pity, the Dove dropped a blade of straw close beside it. Clinging to the straw like a shipwrecked sailor to a broken spar, the Ant floated safely to shore. Soon after, the Ant saw a man getting ready to kill the Dove with a stone. But just as he cast the stone, the Ant stung him in the heel, so that the pain made him miss his aim, and the startled Dove flew to safety in a distant wood.\""
      ],
      "metadata": {
        "id": "PQDT8iAOks95"
      },
      "execution_count": 19,
      "outputs": []
    },
    {
      "cell_type": "code",
      "source": [
        "# Punctuation: '.', ','\n",
        "words = word_tokenize(text)\n",
        "print(words)"
      ],
      "metadata": {
        "colab": {
          "base_uri": "https://localhost:8080/"
        },
        "id": "DNJGLc0ek3lu",
        "outputId": "e7b6943e-b406-4c55-8696-772bcecae918"
      },
      "execution_count": 17,
      "outputs": [
        {
          "output_type": "stream",
          "name": "stdout",
          "text": [
            "['A', 'Dove', 'saw', 'an', 'Ant', 'fall', 'into', 'a', 'brook', '.', 'The', 'Ant', 'struggled', 'in', 'vain', 'to', 'reach', 'the', 'bank', ',', 'and', 'in', 'pity', ',', 'the', 'Dove', 'dropped', 'a', 'blade', 'of', 'straw', 'close', 'beside', 'it', '.', 'Clinging', 'to', 'the', 'straw', 'like', 'a', 'shipwrecked', 'sailor', 'to', 'a', 'broken', 'spar', ',', 'the', 'Ant', 'floated', 'safely', 'to', 'shore', '.', 'Soon', 'after', ',', 'the', 'Ant', 'saw', 'a', 'man', 'getting', 'ready', 'to', 'kill', 'the', 'Dove', 'with', 'a', 'stone', '.', 'But', 'just', 'as', 'he', 'cast', 'the', 'stone', ',', 'the', 'Ant', 'stung', 'him', 'in', 'the', 'heel', ',', 'so', 'that', 'the', 'pain', 'made', 'him', 'miss', 'his', 'aim', ',', 'and', 'the', 'startled', 'Dove', 'flew', 'to', 'safety', 'in', 'a', 'distant', 'wood', '.']\n"
          ]
        }
      ]
    },
    {
      "cell_type": "markdown",
      "source": [
        "## Remove punctuation only items"
      ],
      "metadata": {
        "id": "kLotHGYfmMm3"
      }
    },
    {
      "cell_type": "code",
      "source": [
        "from nltk.tokenize import RegexpTokenizer\n",
        "retokenize = RegexpTokenizer(\"[\\w]+\")\n",
        "words = retokenize.tokenize(text)\n",
        "print(words)"
      ],
      "metadata": {
        "colab": {
          "base_uri": "https://localhost:8080/"
        },
        "id": "eapvsIIVlUpo",
        "outputId": "d5030d7f-a953-4ac7-f9f2-7c43fe2dafc2"
      },
      "execution_count": 20,
      "outputs": [
        {
          "output_type": "stream",
          "name": "stdout",
          "text": [
            "['A', 'Dove', 'saw', 'an', 'Ant', 'fall', 'into', 'a', 'brook', 'The', 'Ant', 'struggled', 'in', 'vain', 'to', 'reach', 'the', 'bank', 'and', 'in', 'pity', 'the', 'Dove', 'dropped', 'a', 'blade', 'of', 'straw', 'close', 'beside', 'it', 'Clinging', 'to', 'the', 'straw', 'like', 'a', 'shipwrecked', 'sailor', 'to', 'a', 'broken', 'spar', 'the', 'Ant', 'floated', 'safely', 'to', 'shore', 'Soon', 'after', 'the', 'Ant', 'saw', 'a', 'man', 'getting', 'ready', 'to', 'kill', 'the', 'Dove', 'with', 'a', 'stone', 'But', 'just', 'as', 'he', 'cast', 'the', 'stone', 'the', 'Ant', 'stung', 'him', 'in', 'the', 'heel', 'so', 'that', 'the', 'pain', 'made', 'him', 'miss', 'his', 'aim', 'and', 'the', 'startled', 'Dove', 'flew', 'to', 'safety', 'in', 'a', 'distant', 'wood']\n"
          ]
        }
      ]
    },
    {
      "cell_type": "markdown",
      "source": [
        "## Stopwords: \n",
        "Note that stopwords list is all in lower case."
      ],
      "metadata": {
        "id": "RRIUcKxkmQh-"
      }
    },
    {
      "cell_type": "code",
      "source": [
        "from nltk.corpus import stopwords  \n",
        "nltk.download('stopwords')\n",
        "print('Tokenized words: ', words)\n",
        "print('Length: ', len(words))\n",
        "print('Stopwords: ', stopwords.words('english'))"
      ],
      "metadata": {
        "colab": {
          "base_uri": "https://localhost:8080/"
        },
        "id": "7Fq25GBzkpOL",
        "outputId": "a5f8b754-df28-4c92-9bf7-e247fb3eedaa"
      },
      "execution_count": 27,
      "outputs": [
        {
          "output_type": "stream",
          "name": "stdout",
          "text": [
            "[nltk_data] Downloading package stopwords to /root/nltk_data...\n",
            "[nltk_data]   Package stopwords is already up-to-date!\n",
            "Tokenized words:  ['A', 'Dove', 'saw', 'Ant', 'fall', 'brook', 'The', 'Ant', 'struggled', 'vain', 'reach', 'bank', 'pity', 'Dove', 'dropped', 'blade', 'straw', 'close', 'beside', 'Clinging', 'straw', 'like', 'shipwrecked', 'sailor', 'broken', 'spar', 'Ant', 'floated', 'safely', 'shore', 'Soon', 'Ant', 'saw', 'man', 'getting', 'ready', 'kill', 'Dove', 'stone', 'But', 'cast', 'stone', 'Ant', 'stung', 'heel', 'pain', 'made', 'miss', 'aim', 'startled', 'Dove', 'flew', 'safety', 'distant', 'wood']\n",
            "Length:  55\n",
            "Stopwords:  ['i', 'me', 'my', 'myself', 'we', 'our', 'ours', 'ourselves', 'you', \"you're\", \"you've\", \"you'll\", \"you'd\", 'your', 'yours', 'yourself', 'yourselves', 'he', 'him', 'his', 'himself', 'she', \"she's\", 'her', 'hers', 'herself', 'it', \"it's\", 'its', 'itself', 'they', 'them', 'their', 'theirs', 'themselves', 'what', 'which', 'who', 'whom', 'this', 'that', \"that'll\", 'these', 'those', 'am', 'is', 'are', 'was', 'were', 'be', 'been', 'being', 'have', 'has', 'had', 'having', 'do', 'does', 'did', 'doing', 'a', 'an', 'the', 'and', 'but', 'if', 'or', 'because', 'as', 'until', 'while', 'of', 'at', 'by', 'for', 'with', 'about', 'against', 'between', 'into', 'through', 'during', 'before', 'after', 'above', 'below', 'to', 'from', 'up', 'down', 'in', 'out', 'on', 'off', 'over', 'under', 'again', 'further', 'then', 'once', 'here', 'there', 'when', 'where', 'why', 'how', 'all', 'any', 'both', 'each', 'few', 'more', 'most', 'other', 'some', 'such', 'no', 'nor', 'not', 'only', 'own', 'same', 'so', 'than', 'too', 'very', 's', 't', 'can', 'will', 'just', 'don', \"don't\", 'should', \"should've\", 'now', 'd', 'll', 'm', 'o', 're', 've', 'y', 'ain', 'aren', \"aren't\", 'couldn', \"couldn't\", 'didn', \"didn't\", 'doesn', \"doesn't\", 'hadn', \"hadn't\", 'hasn', \"hasn't\", 'haven', \"haven't\", 'isn', \"isn't\", 'ma', 'mightn', \"mightn't\", 'mustn', \"mustn't\", 'needn', \"needn't\", 'shan', \"shan't\", 'shouldn', \"shouldn't\", 'wasn', \"wasn't\", 'weren', \"weren't\", 'won', \"won't\", 'wouldn', \"wouldn't\"]\n"
          ]
        }
      ]
    },
    {
      "cell_type": "code",
      "source": [
        "# List words that are not included in stopwords.\n",
        "words = [w for w in words if not w in stopwords.words('english')]\n",
        "print('Length: ', len(words))\n",
        "print('Words after stopwords: ', words)"
      ],
      "metadata": {
        "colab": {
          "base_uri": "https://localhost:8080/"
        },
        "id": "50TVh33MlQsJ",
        "outputId": "13e3191e-8828-43f9-af34-ce3594f18125"
      },
      "execution_count": 28,
      "outputs": [
        {
          "output_type": "stream",
          "name": "stdout",
          "text": [
            "Length:  55\n",
            "Words after stopwords:  ['A', 'Dove', 'saw', 'Ant', 'fall', 'brook', 'The', 'Ant', 'struggled', 'vain', 'reach', 'bank', 'pity', 'Dove', 'dropped', 'blade', 'straw', 'close', 'beside', 'Clinging', 'straw', 'like', 'shipwrecked', 'sailor', 'broken', 'spar', 'Ant', 'floated', 'safely', 'shore', 'Soon', 'Ant', 'saw', 'man', 'getting', 'ready', 'kill', 'Dove', 'stone', 'But', 'cast', 'stone', 'Ant', 'stung', 'heel', 'pain', 'made', 'miss', 'aim', 'startled', 'Dove', 'flew', 'safety', 'distant', 'wood']\n"
          ]
        }
      ]
    },
    {
      "cell_type": "markdown",
      "source": [
        "## Modifying stopwords list:"
      ],
      "metadata": {
        "id": "6KnR1d4Yo9FL"
      }
    },
    {
      "cell_type": "code",
      "source": [
        "# Add 'Dove' and 'Ant' to the stopwords.word('english):\n",
        "\n",
        "stop = stopwords.words('english'); print('Length of stopwords: ', len(stop))\n",
        "newstop = stopwords.words('english') + ['Dove', 'Ant']; print('Length of newstop word list: ', len(newstop))"
      ],
      "metadata": {
        "colab": {
          "base_uri": "https://localhost:8080/"
        },
        "id": "biDzEveUn6XQ",
        "outputId": "b46bdd44-26d7-4701-a034-86c4585b87a4"
      },
      "execution_count": 33,
      "outputs": [
        {
          "output_type": "stream",
          "name": "stdout",
          "text": [
            "Length of stopwords:  179\n",
            "Length of newstop word list:  181\n"
          ]
        }
      ]
    },
    {
      "cell_type": "code",
      "source": [
        "words = [w for w in words if not w in newstop]\n",
        "print(words)"
      ],
      "metadata": {
        "colab": {
          "base_uri": "https://localhost:8080/"
        },
        "id": "ALUdDFLfoaZb",
        "outputId": "e5ac4659-dd63-4344-c600-67a9e7c0b307"
      },
      "execution_count": 34,
      "outputs": [
        {
          "output_type": "stream",
          "name": "stdout",
          "text": [
            "['A', 'saw', 'fall', 'brook', 'The', 'struggled', 'vain', 'reach', 'bank', 'pity', 'dropped', 'blade', 'straw', 'close', 'beside', 'Clinging', 'straw', 'like', 'shipwrecked', 'sailor', 'broken', 'spar', 'floated', 'safely', 'shore', 'Soon', 'saw', 'man', 'getting', 'ready', 'kill', 'stone', 'But', 'cast', 'stone', 'stung', 'heel', 'pain', 'made', 'miss', 'aim', 'startled', 'flew', 'safety', 'distant', 'wood']\n"
          ]
        }
      ]
    }
  ]
}