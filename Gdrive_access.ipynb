{
  "nbformat": 4,
  "nbformat_minor": 0,
  "metadata": {
    "colab": {
      "provenance": [],
      "authorship_tag": "ABX9TyM4T1ORQrQwpL+s3YCWvVFS",
      "include_colab_link": true
    },
    "kernelspec": {
      "name": "python3",
      "display_name": "Python 3"
    },
    "language_info": {
      "name": "python"
    }
  },
  "cells": [
    {
      "cell_type": "markdown",
      "metadata": {
        "id": "view-in-github",
        "colab_type": "text"
      },
      "source": [
        "<a href=\"https://colab.research.google.com/github/MK316/codes/blob/main/Gdrive_access.ipynb\" target=\"_parent\"><img src=\"https://colab.research.google.com/assets/colab-badge.svg\" alt=\"Open In Colab\"/></a>"
      ]
    },
    {
      "cell_type": "markdown",
      "source": [
        "# Google drive mount, unzip, unmount (23. 01. 06)"
      ],
      "metadata": {
        "id": "GBtrThgew37m"
      }
    },
    {
      "cell_type": "markdown",
      "source": [
        "[1] Drive mount"
      ],
      "metadata": {
        "id": "8GGsgCIgw_ud"
      }
    },
    {
      "cell_type": "code",
      "execution_count": 6,
      "metadata": {
        "colab": {
          "base_uri": "https://localhost:8080/"
        },
        "id": "BxuEl3x4ud4D",
        "outputId": "c83ea2bb-92dd-415a-c3a1-2e7353855fe3"
      },
      "outputs": [
        {
          "output_type": "stream",
          "name": "stdout",
          "text": [
            "Drive already mounted at /content/drive; to attempt to forcibly remount, call drive.mount(\"/content/drive\", force_remount=True).\n"
          ]
        }
      ],
      "source": [
        "from google.colab import drive \n",
        "drive.mount('/content/drive')"
      ]
    },
    {
      "cell_type": "markdown",
      "source": [
        "[2] Check file list"
      ],
      "metadata": {
        "id": "gs7LVAIdxCId"
      }
    },
    {
      "cell_type": "code",
      "source": [
        "!ls \"/content/drive/MyDrive/asrdata\""
      ],
      "metadata": {
        "colab": {
          "base_uri": "https://localhost:8080/"
        },
        "id": "LM7u-O2CugMB",
        "outputId": "2119b3bd-c053-4460-e567-eeaf2339ef91"
      },
      "execution_count": 7,
      "outputs": [
        {
          "output_type": "stream",
          "name": "stdout",
          "text": [
            "SE.zip\n"
          ]
        }
      ]
    },
    {
      "cell_type": "markdown",
      "source": [
        "[3] Check current directory"
      ],
      "metadata": {
        "id": "LB4ieyNtxIFa"
      }
    },
    {
      "cell_type": "code",
      "source": [
        "!pwd"
      ],
      "metadata": {
        "colab": {
          "base_uri": "https://localhost:8080/"
        },
        "id": "cirqfBdgwLqB",
        "outputId": "7e3e3516-36c4-4974-c01b-8a3e94261de5"
      },
      "execution_count": 8,
      "outputs": [
        {
          "output_type": "stream",
          "name": "stdout",
          "text": [
            "/content\n"
          ]
        }
      ]
    },
    {
      "cell_type": "markdown",
      "source": [
        "[4] Create a new folder"
      ],
      "metadata": {
        "id": "eWtKnV2DxKQj"
      }
    },
    {
      "cell_type": "code",
      "source": [
        "!mkdir SE"
      ],
      "metadata": {
        "id": "rAAK0jp4u6-m"
      },
      "execution_count": 9,
      "outputs": []
    },
    {
      "cell_type": "markdown",
      "source": [
        "[5] Unzip a file to the destination folder"
      ],
      "metadata": {
        "id": "_ouADP0hxNXP"
      }
    },
    {
      "cell_type": "code",
      "source": [
        "!unzip \"/content/drive/MyDrive/asrdata/SE.zip\" -d \"/content/SE/\""
      ],
      "metadata": {
        "id": "BqLaOsBMwPwR"
      },
      "execution_count": null,
      "outputs": []
    },
    {
      "cell_type": "markdown",
      "source": [
        "# Google drive unmount"
      ],
      "metadata": {
        "id": "empxSFoMwzez"
      }
    },
    {
      "cell_type": "code",
      "source": [
        "from google.colab import drive\n",
        "drive.flush_and_unmount()"
      ],
      "metadata": {
        "id": "mauifm_PwxW1"
      },
      "execution_count": 11,
      "outputs": []
    }
  ]
}