{
  "nbformat": 4,
  "nbformat_minor": 0,
  "metadata": {
    "colab": {
      "name": "Fileread.ipynb",
      "provenance": [],
      "include_colab_link": true
    },
    "kernelspec": {
      "name": "python3",
      "display_name": "Python 3"
    },
    "language_info": {
      "name": "python"
    }
  },
  "cells": [
    {
      "cell_type": "markdown",
      "metadata": {
        "id": "view-in-github",
        "colab_type": "text"
      },
      "source": [
        "<a href=\"https://colab.research.google.com/github/MK316/codes/blob/main/Fileread.ipynb\" target=\"_parent\"><img src=\"https://colab.research.google.com/assets/colab-badge.svg\" alt=\"Open In Colab\"/></a>"
      ]
    },
    {
      "cell_type": "markdown",
      "source": [
        "# Reading a text file from github"
      ],
      "metadata": {
        "id": "-ZrFYWPWOAkd"
      }
    },
    {
      "cell_type": "code",
      "source": [
        "import base64\n",
        "import requests"
      ],
      "metadata": {
        "id": "7OXnUYegOVCI"
      },
      "execution_count": null,
      "outputs": []
    },
    {
      "cell_type": "code",
      "source": [
        "# myread() define\n",
        "\n",
        "def myread(url):\n",
        "  req = requests.get(url)\n",
        "  req = req.text\n",
        "  return(req)"
      ],
      "metadata": {
        "id": "gt4cfbVVMrG6"
      },
      "execution_count": null,
      "outputs": []
    },
    {
      "cell_type": "code",
      "source": [
        "url = \"https://raw.githubusercontent.com/MK316/NLP/main/S2022TED.txt\"\n",
        "myread(url)"
      ],
      "metadata": {
        "id": "REcczVA8Odvx"
      },
      "execution_count": null,
      "outputs": []
    },
    {
      "cell_type": "markdown",
      "source": [
        "# File to read"
      ],
      "metadata": {
        "id": "A-jgvZixOxgu"
      }
    },
    {
      "cell_type": "code",
      "source": [
        "# # data\n",
        "# url = \"S2022TED.txt\"\n",
        "# file = read_(url)\n",
        "# text = file.read().replace(\"\\n\", \" \")\n",
        "# file.close()"
      ],
      "metadata": {
        "id": "iikiIkNiOw8t"
      },
      "execution_count": null,
      "outputs": []
    }
  ]
}