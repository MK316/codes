{
  "nbformat": 4,
  "nbformat_minor": 0,
  "metadata": {
    "colab": {
      "name": "boxplot.ipynb",
      "provenance": [],
      "authorship_tag": "ABX9TyNc3mUS1Xak+YWSVgcdP9PI",
      "include_colab_link": true
    },
    "kernelspec": {
      "name": "python3",
      "display_name": "Python 3"
    },
    "language_info": {
      "name": "python"
    }
  },
  "cells": [
    {
      "cell_type": "markdown",
      "metadata": {
        "id": "view-in-github",
        "colab_type": "text"
      },
      "source": [
        "<a href=\"https://colab.research.google.com/github/MK316/codes/blob/main/boxplot.ipynb\" target=\"_parent\"><img src=\"https://colab.research.google.com/assets/colab-badge.svg\" alt=\"Open In Colab\"/></a>"
      ]
    },
    {
      "cell_type": "code",
      "execution_count": 8,
      "metadata": {
        "id": "QFh81aI2YHZ-"
      },
      "outputs": [],
      "source": [
        "import numpy as np\n",
        "import matplotlib.pyplot as plt\n",
        "import pandas as pd\n",
        "\n",
        "# # Fixing random state for reproducibility\n",
        "# np.random.seed(19680801)\n",
        "\n",
        "# # fake up some data\n",
        "# spread = np.random.rand(50) * 100\n",
        "# center = np.ones(25) * 50\n",
        "# flier_high = np.random.rand(10) * 100 + 100\n",
        "# flier_low = np.random.rand(10) * -100\n",
        "# data = np.concatenate((spread, center, flier_high, flier_low))"
      ]
    },
    {
      "cell_type": "code",
      "source": [
        "data = pd.read_csv('https://raw.githubusercontent.com/MK316/Learning01/main/engpro22mid.csv')\n",
        "df = data.score"
      ],
      "metadata": {
        "id": "uyn5qsNLYbUq"
      },
      "execution_count": 9,
      "outputs": []
    },
    {
      "cell_type": "code",
      "source": [
        "fig1, ax1 = plt.subplots()\n",
        "ax1.set_title('Boxplot')\n",
        "ax1.boxplot(df)"
      ],
      "metadata": {
        "colab": {
          "base_uri": "https://localhost:8080/",
          "height": 428
        },
        "id": "xmmB2Q_TYMvE",
        "outputId": "6909bac8-ccd7-42a2-d691-923ca0586e2e"
      },
      "execution_count": 11,
      "outputs": [
        {
          "output_type": "execute_result",
          "data": {
            "text/plain": [
              "{'boxes': [<matplotlib.lines.Line2D at 0x7f01f2106110>],\n",
              " 'caps': [<matplotlib.lines.Line2D at 0x7f01f210e110>,\n",
              "  <matplotlib.lines.Line2D at 0x7f01f210e650>],\n",
              " 'fliers': [<matplotlib.lines.Line2D at 0x7f01f2116150>],\n",
              " 'means': [],\n",
              " 'medians': [<matplotlib.lines.Line2D at 0x7f01f210ebd0>],\n",
              " 'whiskers': [<matplotlib.lines.Line2D at 0x7f01f2106650>,\n",
              "  <matplotlib.lines.Line2D at 0x7f01f2106b90>]}"
            ]
          },
          "metadata": {},
          "execution_count": 11
        },
        {
          "output_type": "display_data",
          "data": {
            "text/plain": [
              "<Figure size 432x288 with 1 Axes>"
            ],
            "image/png": "[encoded data removed]"
          },
          "metadata": {
            "needs_background": "light"
          }
        }
      ]
    }
  ]
}