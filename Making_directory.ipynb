{
  "nbformat": 4,
  "nbformat_minor": 0,
  "metadata": {
    "colab": {
      "name": "Making_directory.ipynb",
      "provenance": [],
      "authorship_tag": "ABX9TyM7faMAePd002ajypRjslhx",
      "include_colab_link": true
    },
    "kernelspec": {
      "name": "python3",
      "display_name": "Python 3"
    },
    "language_info": {
      "name": "python"
    }
  },
  "cells": [
    {
      "cell_type": "markdown",
      "metadata": {
        "id": "view-in-github",
        "colab_type": "text"
      },
      "source": [
        "<a href=\"https://colab.research.google.com/github/MK316/codes/blob/main/Making_directory.ipynb\" target=\"_parent\"><img src=\"https://colab.research.google.com/assets/colab-badge.svg\" alt=\"Open In Colab\"/></a>"
      ]
    },
    {
      "cell_type": "markdown",
      "source": [
        "# Creating a new directory(folder)"
      ],
      "metadata": {
        "id": "cH2jorJQyL9D"
      }
    },
    {
      "cell_type": "code",
      "execution_count": 1,
      "metadata": {
        "id": "oVLitV9Bx73G"
      },
      "outputs": [],
      "source": [
        "import os\n",
        "os.mkdir(\"directoryname\")"
      ]
    },
    {
      "cell_type": "code",
      "source": [
        "arr = os.listdir(\"/content\")\n",
        "print(arr)"
      ],
      "metadata": {
        "colab": {
          "base_uri": "https://localhost:8080/"
        },
        "id": "MUv1YE-VyRwG",
        "outputId": "1e2b6290-4ad3-423d-ecc9-d16925afde36"
      },
      "execution_count": 3,
      "outputs": [
        {
          "output_type": "stream",
          "name": "stdout",
          "text": [
            "['.config', 'directoryname', 'sample_data']\n"
          ]
        }
      ]
    }
  ]
}