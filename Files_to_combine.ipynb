{
  "nbformat": 4,
  "nbformat_minor": 0,
  "metadata": {
    "colab": {
      "name": "Files-to-combine.ipynb",
      "provenance": [],
      "authorship_tag": "ABX9TyMCfNfIUB+786KtzslS1Kr8",
      "include_colab_link": true
    },
    "kernelspec": {
      "name": "python3",
      "display_name": "Python 3"
    },
    "language_info": {
      "name": "python"
    }
  },
  "cells": [
    {
      "cell_type": "markdown",
      "metadata": {
        "id": "view-in-github",
        "colab_type": "text"
      },
      "source": [
        "<a href=\"https://colab.research.google.com/github/MK316/codes/blob/main/Files_to_combine.ipynb\" target=\"_parent\"><img src=\"https://colab.research.google.com/assets/colab-badge.svg\" alt=\"Open In Colab\"/></a>"
      ]
    },
    {
      "cell_type": "markdown",
      "source": [
        "# Combine text files in a directory as a single file"
      ],
      "metadata": {
        "id": "e_Xp8g8Wgi_K"
      }
    },
    {
      "cell_type": "code",
      "execution_count": null,
      "metadata": {
        "id": "G9ntf_1-eK2R"
      },
      "outputs": [],
      "source": [
        "import os\n",
        "# find all the txt files in the dataset folder\n",
        "inputs = []\n",
        "\n",
        "for file in os.listdir(\"brown_single\"):\n",
        "    if file.endswith(\".txt\"):\n",
        "        inputs.append(os.path.join(\"brown_single\", file))\n",
        " \n",
        " \n",
        "# concatanate all txt files in a file called merged_file.txt\n",
        "with open('merged_file.txt', 'w') as outfile:\n",
        "    for fname in inputs:\n",
        "        with open(fname, encoding=\"utf-8\", errors='ignore') as infile:\n",
        "            outfile.write(infile.read())"
      ]
    }
  ]
}