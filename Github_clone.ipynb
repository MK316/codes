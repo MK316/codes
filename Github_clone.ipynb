{
  "nbformat": 4,
  "nbformat_minor": 0,
  "metadata": {
    "colab": {
      "name": "Github_clone.ipynb",
      "provenance": [],
      "authorship_tag": "ABX9TyPEASW1PvlrYRvwy8Xpe5mn",
      "include_colab_link": true
    },
    "kernelspec": {
      "name": "python3",
      "display_name": "Python 3"
    },
    "language_info": {
      "name": "python"
    }
  },
  "cells": [
    {
      "cell_type": "markdown",
      "metadata": {
        "id": "view-in-github",
        "colab_type": "text"
      },
      "source": [
        "<a href=\"https://colab.research.google.com/github/MK316/codes/blob/main/Github_clone.ipynb\" target=\"_parent\"><img src=\"https://colab.research.google.com/assets/colab-badge.svg\" alt=\"Open In Colab\"/></a>"
      ]
    },
    {
      "cell_type": "code",
      "execution_count": null,
      "metadata": {
        "id": "pUGRZYDTGmnH"
      },
      "outputs": [],
      "source": [
        "# !git clone https://github.com/youraccountname/repositoryname.git\n",
        "!git clone https://github.com/MK316/mynltkdata.git"
      ]
    },
    {
      "cell_type": "markdown",
      "source": [
        "Change directory"
      ],
      "metadata": {
        "id": "KKORRlr9Guwy"
      }
    },
    {
      "cell_type": "code",
      "source": [
        "%cd /content/mynltkdata/"
      ],
      "metadata": {
        "id": "ynO0o45FGrTl"
      },
      "execution_count": null,
      "outputs": []
    },
    {
      "cell_type": "markdown",
      "source": [
        "Current directory"
      ],
      "metadata": {
        "id": "ZBUm1MFiGycu"
      }
    },
    {
      "cell_type": "code",
      "source": [
        "!pwd"
      ],
      "metadata": {
        "id": "j_CViG22Gx6W"
      },
      "execution_count": null,
      "outputs": []
    },
    {
      "cell_type": "markdown",
      "source": [
        "# Refresh clone (when github folder has been updated)"
      ],
      "metadata": {
        "id": "KTRxVmVYeXXW"
      }
    },
    {
      "cell_type": "code",
      "source": [
        "!git pull"
      ],
      "metadata": {
        "id": "W7EvBP22eQ_1"
      },
      "execution_count": null,
      "outputs": []
    }
  ]
}